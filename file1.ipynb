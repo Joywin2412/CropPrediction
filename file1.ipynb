{
 "cells": [
  {
   "cell_type": "code",
   "execution_count": 234,
   "metadata": {},
   "outputs": [],
   "source": [
    "import numpy as np\n",
    "import pandas as pd\n"
   ]
  },
  {
   "cell_type": "code",
   "execution_count": 235,
   "metadata": {},
   "outputs": [],
   "source": [
    "import csv\n",
    "import numpy as np\n",
    "\n",
    "cnt = 1\n",
    "csv_file_path = 'crop_production.csv'\n",
    "states = {}\n",
    "districts = {}\n",
    "season_to_number = {}\n",
    "crops = {}\n",
    "with open(csv_file_path, 'r') as file:\n",
    "    csv_reader = csv.reader(file)\n",
    "    for row in  csv_reader:\n",
    "        cnt = cnt+1\n",
    "        if cnt == 1 : continue\n",
    "        states[row[0].strip()] = 1\n",
    "        districts[row[1].strip()] = 1\n",
    "        season_to_number[row[3].strip()] = 1\n",
    "        crops[row[4].strip()] = 1\n",
    "        \n",
    "cnt = 1\n",
    "for val in states.keys():\n",
    "    states[val] = cnt\n",
    "    cnt = cnt+1\n",
    "cnt = 1\n",
    "for val in districts.keys():\n",
    "    districts[val] = cnt\n",
    "    cnt = cnt+1\n",
    "cnt = 1\n",
    "\n",
    "for val in season_to_number.keys():\n",
    "    season_to_number[val] = cnt\n",
    "    cnt = cnt+1\n",
    "cnt = 1\n",
    "for val in crops.keys():\n",
    "    crops[val] = cnt\n",
    "    cnt = cnt+1\n",
    "\n",
    "\n"
   ]
  },
  {
   "cell_type": "code",
   "execution_count": 236,
   "metadata": {},
   "outputs": [],
   "source": [
    "import csv\n",
    "import numpy as np\n",
    "from sklearn.model_selection import train_test_split\n",
    "\n",
    "\n",
    "csv_file_path = 'crop_production.csv'\n",
    "\n",
    "y = []\n",
    "data = []\n",
    "cnt = 0\n",
    "with open(csv_file_path, 'r') as file:\n",
    "    csv_reader = csv.reader(file)\n",
    "    for row in csv_reader:\n",
    "        cnt = cnt+1\n",
    "        if cnt == 1 : continue\n",
    "        try:\n",
    "            y.append(float(row[6]))\n",
    "        except:\n",
    "            continue\n",
    "        temp_row = row\n",
    "        if len(temp_row[1]) ==0 : continue\n",
    "        if len(temp_row[2]) ==0 : continue\n",
    "        if len(temp_row[3]) ==0 : continue\n",
    "        if len(temp_row[4]) ==0 : continue\n",
    "        if len(temp_row[5]) ==0 : continue\n",
    "        temp_row[1] = districts[temp_row[1].strip()]\n",
    "        temp_row[2] = int(temp_row[2])\n",
    "        temp_row[3] = season_to_number[temp_row[3].strip()]\n",
    "        temp_row[4] = crops[temp_row[4].strip()]\n",
    "        temp_row[5] = float(temp_row[5])\n",
    "        \n",
    "        temp1 = row[1:2]\n",
    "        temp2 = row[3:6]\n",
    "        data.append(temp1+temp2)\n",
    "       \n",
    "y = np.array(y)\n",
    "\n",
    "data = np.array(data)\n",
    "\n",
    "from sklearn.preprocessing import StandardScaler\n",
    "scaler = StandardScaler()\n",
    "X_train_normalized = scaler.fit_transform(data)\n",
    "\n",
    "\n",
    "\n",
    "X_train, X_test, y_train, y_test = train_test_split(X_train_normalized, y, test_size = .25, random_state = 18)\n"
   ]
  },
  {
   "cell_type": "code",
   "execution_count": 237,
   "metadata": {},
   "outputs": [],
   "source": [
    "# n_estimators=1000, max_depth=7, eta=0.1, subsample=0.7, colsample_bytree=0.8 "
   ]
  },
  {
   "cell_type": "code",
   "execution_count": 238,
   "metadata": {},
   "outputs": [
    {
     "name": "stdout",
     "output_type": "stream",
     "text": [
      "Fitting 5 folds for each of 3 candidates, totalling 15 fits\n",
      "[0]\tvalidation_0-rmse:14595496.50287\n",
      "[1]\tvalidation_0-rmse:11928986.65675\n",
      "[2]\tvalidation_0-rmse:10056462.91726\n"
     ]
    },
    {
     "name": "stderr",
     "output_type": "stream",
     "text": [
      "c:\\Python311\\Lib\\site-packages\\xgboost\\sklearn.py:835: UserWarning: `early_stopping_rounds` in `fit` method is deprecated for better compatibility with scikit-learn, use `early_stopping_rounds` in constructor or`set_params` instead.\n",
      "  warnings.warn(\n"
     ]
    },
    {
     "name": "stdout",
     "output_type": "stream",
     "text": [
      "[3]\tvalidation_0-rmse:8559693.45156\n",
      "[4]\tvalidation_0-rmse:7853138.11548\n",
      "[5]\tvalidation_0-rmse:7158915.79496\n",
      "[6]\tvalidation_0-rmse:6701383.99381\n",
      "[7]\tvalidation_0-rmse:6424676.87376\n",
      "[8]\tvalidation_0-rmse:6295446.26429\n",
      "[9]\tvalidation_0-rmse:6108406.13501\n",
      "[10]\tvalidation_0-rmse:6073179.51076\n",
      "[11]\tvalidation_0-rmse:6008379.77533\n",
      "[12]\tvalidation_0-rmse:6006967.14141\n",
      "[13]\tvalidation_0-rmse:5991683.80992\n",
      "[14]\tvalidation_0-rmse:5932640.04764\n",
      "[15]\tvalidation_0-rmse:5822952.72517\n",
      "[16]\tvalidation_0-rmse:5770079.27480\n",
      "[17]\tvalidation_0-rmse:5758446.85982\n",
      "[18]\tvalidation_0-rmse:5759260.10718\n",
      "[19]\tvalidation_0-rmse:5743296.78250\n",
      "[20]\tvalidation_0-rmse:5735738.59379\n",
      "[21]\tvalidation_0-rmse:5728982.27371\n",
      "[22]\tvalidation_0-rmse:5737934.41550\n",
      "[23]\tvalidation_0-rmse:5745984.56573\n",
      "[24]\tvalidation_0-rmse:5743279.38900\n",
      "[25]\tvalidation_0-rmse:5772531.23847\n",
      "[26]\tvalidation_0-rmse:5769317.58515\n",
      "[27]\tvalidation_0-rmse:5766855.90834\n",
      "[28]\tvalidation_0-rmse:5751968.87581\n",
      "[29]\tvalidation_0-rmse:5753212.31949\n",
      "[30]\tvalidation_0-rmse:5758228.50820\n",
      "[31]\tvalidation_0-rmse:5776081.78269\n",
      "[32]\tvalidation_0-rmse:5803471.53117\n",
      "[33]\tvalidation_0-rmse:5808829.67024\n",
      "[34]\tvalidation_0-rmse:5819544.56076\n",
      "[35]\tvalidation_0-rmse:5829265.05326\n",
      "[36]\tvalidation_0-rmse:5831937.90380\n",
      "[37]\tvalidation_0-rmse:5841245.65403\n",
      "[38]\tvalidation_0-rmse:5851308.41276\n",
      "[39]\tvalidation_0-rmse:5881223.48311\n",
      "[40]\tvalidation_0-rmse:5871497.11858\n",
      "Best parameters: {'colsample_bytree': 1.0, 'n_estimators': 100, 'subsample': 0.7}\n"
     ]
    }
   ],
   "source": [
    "from xgboost import XGBRegressor\n",
    "from sklearn.model_selection import GridSearchCV\n",
    "\n",
    "param_grid_gb = {\n",
    "    \"n_estimators\" : [100],\n",
    "    'subsample' : [0.5,0.6,0.7],\n",
    "    'colsample_bytree': [1.0],\n",
    "}\n",
    "\n",
    "model = XGBRegressor()\n",
    "mse_grid = GridSearchCV(estimator=model, param_grid=param_grid_gb, scoring='neg_mean_squared_error', cv=5, verbose=1, n_jobs=-1)\n",
    "\n",
    "mse_grid.fit(X_train, y_train, eval_set=[(X_test, y_test)], early_stopping_rounds=20)\n",
    "\n",
    "print(\"Best parameters:\", mse_grid.best_params_)\n",
    "\n",
    "\n",
    "# Procedure: First tune min_child_weight and max_depth\n",
    "# Tune gamma\n",
    "# Tune subsample and colsample\n",
    "# Tune regularization (alpha paramater)\n",
    "# Tune the estimators as required\n",
    "\n",
    "# Previous run (27m 35.4s) Best parameter:  {'learning_rate': 0.1, 'max_depth': 7, 'n_estimators': 200, 'subsample': 1}\n",
    "# Best parameter:  {'colsample_bytree': 1e-05, 'gamma': 0, 'learning_rate': 1e-07, 'max_depth': 1, 'min_child_weight': 1, 'n_estimators': 100, 'reg_alpha': 1e-07, 'subsample': 1}\n"
   ]
  },
  {
   "cell_type": "code",
   "execution_count": 239,
   "metadata": {},
   "outputs": [],
   "source": [
    "from xgboost import XGBRegressor\n",
    "from sklearn.model_selection import GridSearchCV\n",
    "# from sklearn.model_selection import RandomizedSearchCV\n",
    "\n",
    "# param_random_gb = {\n",
    "#               'learning_rate': np.arange(0.05,0.15, 0.05),\n",
    "#               # 'n_estimators' : np.arange(200,1000,100)\n",
    "#             #   'subsample' : np.arange(0.9,1, 0.05),\n",
    "#             #   \"colsample_bytree\" : np.arange(0.9,1,0.05)\n",
    "#               }\n",
    "\n",
    "# # Regressor Instantiation\n",
    "# gb = XGBRegressor()\n",
    "\n",
    "# # Here we specified a total of 25 iterations\n",
    "# mse_random = RandomizedSearchCV(estimator = gb, param_distributions= param_random_gb, n_iter = 25, \n",
    "#                                 scoring = 'neg_mean_squared_error', cv = 4, verbose = 1)\n",
    "\n",
    "# mse_random.fit(X_train_normalized1,y_train1)\n",
    "\n",
    "# print(\"Best parameter: \", mse_random.best_params_)"
   ]
  },
  {
   "cell_type": "code",
   "execution_count": 244,
   "metadata": {},
   "outputs": [
    {
     "name": "stdout",
     "output_type": "stream",
     "text": [
      "[0]\tvalidation_0-rmse:12545958.37380\tvalidation_1-rmse:14595496.50287\n",
      "[1]\tvalidation_0-rmse:10108815.95915\tvalidation_1-rmse:11928986.65675\n",
      "[2]\tvalidation_0-rmse:8567006.67013\tvalidation_1-rmse:10056462.91726\n"
     ]
    },
    {
     "name": "stderr",
     "output_type": "stream",
     "text": [
      "c:\\Python311\\Lib\\site-packages\\xgboost\\sklearn.py:835: UserWarning: `early_stopping_rounds` in `fit` method is deprecated for better compatibility with scikit-learn, use `early_stopping_rounds` in constructor or`set_params` instead.\n",
      "  warnings.warn(\n"
     ]
    },
    {
     "name": "stdout",
     "output_type": "stream",
     "text": [
      "[3]\tvalidation_0-rmse:7361227.64364\tvalidation_1-rmse:8559693.45156\n",
      "[4]\tvalidation_0-rmse:6641425.81406\tvalidation_1-rmse:7853138.11548\n",
      "[5]\tvalidation_0-rmse:6108322.68219\tvalidation_1-rmse:7158915.79496\n",
      "[6]\tvalidation_0-rmse:5733341.22151\tvalidation_1-rmse:6701383.99381\n",
      "[7]\tvalidation_0-rmse:5499609.68319\tvalidation_1-rmse:6424676.87376\n",
      "[8]\tvalidation_0-rmse:5282817.84778\tvalidation_1-rmse:6295446.26429\n",
      "[9]\tvalidation_0-rmse:4931250.97952\tvalidation_1-rmse:6108406.13501\n",
      "[10]\tvalidation_0-rmse:4769162.13824\tvalidation_1-rmse:6073179.51076\n",
      "[11]\tvalidation_0-rmse:4747746.83175\tvalidation_1-rmse:6008379.77533\n",
      "[12]\tvalidation_0-rmse:4537301.46713\tvalidation_1-rmse:6006967.14141\n",
      "[13]\tvalidation_0-rmse:4365331.67905\tvalidation_1-rmse:5991683.80992\n",
      "[14]\tvalidation_0-rmse:4296402.14093\tvalidation_1-rmse:5932640.04764\n",
      "[15]\tvalidation_0-rmse:4153866.34226\tvalidation_1-rmse:5822952.72517\n",
      "[16]\tvalidation_0-rmse:4091706.67966\tvalidation_1-rmse:5770079.27480\n",
      "[17]\tvalidation_0-rmse:3910667.73315\tvalidation_1-rmse:5758446.85982\n",
      "[18]\tvalidation_0-rmse:3821872.89697\tvalidation_1-rmse:5759260.10718\n",
      "[19]\tvalidation_0-rmse:3777750.77208\tvalidation_1-rmse:5743296.78250\n",
      "[20]\tvalidation_0-rmse:3738721.62846\tvalidation_1-rmse:5735738.59379\n",
      "[21]\tvalidation_0-rmse:3627445.82404\tvalidation_1-rmse:5728982.27371\n",
      "[22]\tvalidation_0-rmse:3597272.81884\tvalidation_1-rmse:5737934.41550\n",
      "[23]\tvalidation_0-rmse:3510634.67860\tvalidation_1-rmse:5745984.56573\n",
      "[24]\tvalidation_0-rmse:3444607.09007\tvalidation_1-rmse:5743279.38900\n",
      "[25]\tvalidation_0-rmse:3374851.31197\tvalidation_1-rmse:5772531.23847\n",
      "[26]\tvalidation_0-rmse:3300849.80657\tvalidation_1-rmse:5769317.58515\n",
      "[27]\tvalidation_0-rmse:3249061.30301\tvalidation_1-rmse:5766855.90834\n",
      "[28]\tvalidation_0-rmse:3175039.73314\tvalidation_1-rmse:5751968.87581\n",
      "[29]\tvalidation_0-rmse:3137506.33661\tvalidation_1-rmse:5753212.31949\n",
      "[30]\tvalidation_0-rmse:3115948.30975\tvalidation_1-rmse:5758228.50820\n",
      "[31]\tvalidation_0-rmse:3066334.27227\tvalidation_1-rmse:5776081.78269\n",
      "[32]\tvalidation_0-rmse:3021982.04674\tvalidation_1-rmse:5803471.53117\n",
      "[33]\tvalidation_0-rmse:2984607.28285\tvalidation_1-rmse:5808829.67024\n",
      "[34]\tvalidation_0-rmse:2935997.08096\tvalidation_1-rmse:5819544.56076\n",
      "[35]\tvalidation_0-rmse:2926190.66669\tvalidation_1-rmse:5829265.05326\n",
      "[36]\tvalidation_0-rmse:2894149.91005\tvalidation_1-rmse:5831937.90380\n",
      "[37]\tvalidation_0-rmse:2844529.28669\tvalidation_1-rmse:5841245.65403\n",
      "[38]\tvalidation_0-rmse:2784999.25606\tvalidation_1-rmse:5851308.41276\n",
      "[39]\tvalidation_0-rmse:2743230.90797\tvalidation_1-rmse:5881223.48311\n",
      "[40]\tvalidation_0-rmse:2699335.37949\tvalidation_1-rmse:5871497.11858\n"
     ]
    },
    {
     "data": {
      "text/html": [
       "<style>#sk-container-id-26 {color: black;}#sk-container-id-26 pre{padding: 0;}#sk-container-id-26 div.sk-toggleable {background-color: white;}#sk-container-id-26 label.sk-toggleable__label {cursor: pointer;display: block;width: 100%;margin-bottom: 0;padding: 0.3em;box-sizing: border-box;text-align: center;}#sk-container-id-26 label.sk-toggleable__label-arrow:before {content: \"▸\";float: left;margin-right: 0.25em;color: #696969;}#sk-container-id-26 label.sk-toggleable__label-arrow:hover:before {color: black;}#sk-container-id-26 div.sk-estimator:hover label.sk-toggleable__label-arrow:before {color: black;}#sk-container-id-26 div.sk-toggleable__content {max-height: 0;max-width: 0;overflow: hidden;text-align: left;background-color: #f0f8ff;}#sk-container-id-26 div.sk-toggleable__content pre {margin: 0.2em;color: black;border-radius: 0.25em;background-color: #f0f8ff;}#sk-container-id-26 input.sk-toggleable__control:checked~div.sk-toggleable__content {max-height: 200px;max-width: 100%;overflow: auto;}#sk-container-id-26 input.sk-toggleable__control:checked~label.sk-toggleable__label-arrow:before {content: \"▾\";}#sk-container-id-26 div.sk-estimator input.sk-toggleable__control:checked~label.sk-toggleable__label {background-color: #d4ebff;}#sk-container-id-26 div.sk-label input.sk-toggleable__control:checked~label.sk-toggleable__label {background-color: #d4ebff;}#sk-container-id-26 input.sk-hidden--visually {border: 0;clip: rect(1px 1px 1px 1px);clip: rect(1px, 1px, 1px, 1px);height: 1px;margin: -1px;overflow: hidden;padding: 0;position: absolute;width: 1px;}#sk-container-id-26 div.sk-estimator {font-family: monospace;background-color: #f0f8ff;border: 1px dotted black;border-radius: 0.25em;box-sizing: border-box;margin-bottom: 0.5em;}#sk-container-id-26 div.sk-estimator:hover {background-color: #d4ebff;}#sk-container-id-26 div.sk-parallel-item::after {content: \"\";width: 100%;border-bottom: 1px solid gray;flex-grow: 1;}#sk-container-id-26 div.sk-label:hover label.sk-toggleable__label {background-color: #d4ebff;}#sk-container-id-26 div.sk-serial::before {content: \"\";position: absolute;border-left: 1px solid gray;box-sizing: border-box;top: 0;bottom: 0;left: 50%;z-index: 0;}#sk-container-id-26 div.sk-serial {display: flex;flex-direction: column;align-items: center;background-color: white;padding-right: 0.2em;padding-left: 0.2em;position: relative;}#sk-container-id-26 div.sk-item {position: relative;z-index: 1;}#sk-container-id-26 div.sk-parallel {display: flex;align-items: stretch;justify-content: center;background-color: white;position: relative;}#sk-container-id-26 div.sk-item::before, #sk-container-id-26 div.sk-parallel-item::before {content: \"\";position: absolute;border-left: 1px solid gray;box-sizing: border-box;top: 0;bottom: 0;left: 50%;z-index: -1;}#sk-container-id-26 div.sk-parallel-item {display: flex;flex-direction: column;z-index: 1;position: relative;background-color: white;}#sk-container-id-26 div.sk-parallel-item:first-child::after {align-self: flex-end;width: 50%;}#sk-container-id-26 div.sk-parallel-item:last-child::after {align-self: flex-start;width: 50%;}#sk-container-id-26 div.sk-parallel-item:only-child::after {width: 0;}#sk-container-id-26 div.sk-dashed-wrapped {border: 1px dashed gray;margin: 0 0.4em 0.5em 0.4em;box-sizing: border-box;padding-bottom: 0.4em;background-color: white;}#sk-container-id-26 div.sk-label label {font-family: monospace;font-weight: bold;display: inline-block;line-height: 1.2em;}#sk-container-id-26 div.sk-label-container {text-align: center;}#sk-container-id-26 div.sk-container {/* jupyter's `normalize.less` sets `[hidden] { display: none; }` but bootstrap.min.css set `[hidden] { display: none !important; }` so we also need the `!important` here to be able to override the default hidden behavior on the sphinx rendered scikit-learn.org. See: https://github.com/scikit-learn/scikit-learn/issues/21755 */display: inline-block !important;position: relative;}#sk-container-id-26 div.sk-text-repr-fallback {display: none;}</style><div id=\"sk-container-id-26\" class=\"sk-top-container\"><div class=\"sk-text-repr-fallback\"><pre>XGBRegressor(base_score=None, booster=None, callbacks=None,\n",
       "             colsample_bylevel=None, colsample_bynode=None, colsample_bytree=1,\n",
       "             early_stopping_rounds=None, enable_categorical=False,\n",
       "             eval_metric=None, feature_types=None, gamma=None, gpu_id=None,\n",
       "             grow_policy=None, importance_type=None,\n",
       "             interaction_constraints=None, learning_rate=None, max_bin=None,\n",
       "             max_cat_threshold=None, max_cat_to_onehot=None,\n",
       "             max_delta_step=None, max_depth=None, max_leaves=None,\n",
       "             min_child_weight=None, missing=nan, monotone_constraints=None,\n",
       "             n_estimators=100, n_jobs=None, num_parallel_tree=None,\n",
       "             predictor=None, random_state=None, ...)</pre><b>In a Jupyter environment, please rerun this cell to show the HTML representation or trust the notebook. <br />On GitHub, the HTML representation is unable to render, please try loading this page with nbviewer.org.</b></div><div class=\"sk-container\" hidden><div class=\"sk-item\"><div class=\"sk-estimator sk-toggleable\"><input class=\"sk-toggleable__control sk-hidden--visually\" id=\"sk-estimator-id-26\" type=\"checkbox\" checked><label for=\"sk-estimator-id-26\" class=\"sk-toggleable__label sk-toggleable__label-arrow\">XGBRegressor</label><div class=\"sk-toggleable__content\"><pre>XGBRegressor(base_score=None, booster=None, callbacks=None,\n",
       "             colsample_bylevel=None, colsample_bynode=None, colsample_bytree=1,\n",
       "             early_stopping_rounds=None, enable_categorical=False,\n",
       "             eval_metric=None, feature_types=None, gamma=None, gpu_id=None,\n",
       "             grow_policy=None, importance_type=None,\n",
       "             interaction_constraints=None, learning_rate=None, max_bin=None,\n",
       "             max_cat_threshold=None, max_cat_to_onehot=None,\n",
       "             max_delta_step=None, max_depth=None, max_leaves=None,\n",
       "             min_child_weight=None, missing=nan, monotone_constraints=None,\n",
       "             n_estimators=100, n_jobs=None, num_parallel_tree=None,\n",
       "             predictor=None, random_state=None, ...)</pre></div></div></div></div></div>"
      ],
      "text/plain": [
       "XGBRegressor(base_score=None, booster=None, callbacks=None,\n",
       "             colsample_bylevel=None, colsample_bynode=None, colsample_bytree=1,\n",
       "             early_stopping_rounds=None, enable_categorical=False,\n",
       "             eval_metric=None, feature_types=None, gamma=None, gpu_id=None,\n",
       "             grow_policy=None, importance_type=None,\n",
       "             interaction_constraints=None, learning_rate=None, max_bin=None,\n",
       "             max_cat_threshold=None, max_cat_to_onehot=None,\n",
       "             max_delta_step=None, max_depth=None, max_leaves=None,\n",
       "             min_child_weight=None, missing=nan, monotone_constraints=None,\n",
       "             n_estimators=100, n_jobs=None, num_parallel_tree=None,\n",
       "             predictor=None, random_state=None, ...)"
      ]
     },
     "execution_count": 244,
     "metadata": {},
     "output_type": "execute_result"
    }
   ],
   "source": [
    "# Best parameter:  {'colsample_bytree': 1, 'gamma': 1e-05, 'learning_rate': 1e-07, 'max_depth': 4, 'min_child_weight': 12, 'n_estimators': 100, 'reg_alpha': 1e-08, 'subsample': 0.9}\n",
    "\n",
    "\n",
    "model = XGBRegressor(n_estimators=100 , colsample_bytree = 1 , subsample = 0.7)\n",
    "# eval_set = [(X_test,y_test)]\n",
    "model.fit(X_train,y_train,eval_set=[(X_train,y_train),(X_test,y_test)],early_stopping_rounds=20,)\n",
    "\n",
    "# print(\"Best parameter: \", mse_grid.best_params_)"
   ]
  },
  {
   "cell_type": "code",
   "execution_count": 249,
   "metadata": {},
   "outputs": [
    {
     "name": "stdout",
     "output_type": "stream",
     "text": [
      "Training error:\n",
      "31279183727976.094\n",
      "Test error:\n",
      "20779240876814.168\n"
     ]
    }
   ],
   "source": [
    "# training_error = 0\n",
    "from sklearn.metrics import mean_squared_error\n",
    "print(\"Training error:\")\n",
    "print(mean_squared_error(y_train,model.predict(X_train)))\n",
    "print(\"Test error:\")\n",
    "print(mean_squared_error(y_test,model.predict(X_test)))\n",
    "# Previously\n",
    "# Training error:\n",
    "# 2041076666.4211206\n",
    "# Test error:\n",
    "# 71631908865818.11\n",
    "# Overfit\n",
    "# Now\n",
    "# Training error:\n",
    "# 444956956552237.3\n",
    "# Test error:\n",
    "# 61499447426576.72\n",
    "# Ok"
   ]
  },
  {
   "cell_type": "code",
   "execution_count": 253,
   "metadata": {},
   "outputs": [
    {
     "name": "stdout",
     "output_type": "stream",
     "text": [
      "[[-1.65923103 -0.97610996 -1.21405365 -0.23761399]]\n",
      "[148.93437]\n"
     ]
    }
   ],
   "source": [
    "# This will be used for user inputs\n",
    "# State_Name = states['Andaman and Nicobar Islands']\n",
    "District_Name = districts['NICOBARS']\n",
    "# Crop_Year = 2000\n",
    "Season = season_to_number['Whole Year']\n",
    "Crop = crops['Cashewnut']\n",
    "Area = 719.00\n",
    "# print(State_Name,District_Name,Crop_Year,Season,Crop,Area)\n",
    "X_predict = np.zeros((1,4))\n",
    "X_predict[0] = np.array([District_Name,Season,Crop,Area])\n",
    "X_pred_normalized = scaler.transform(X_predict)\n",
    "\n",
    "Production = model.predict(X_pred_normalized)\n",
    "print(X_pred_normalized)\n",
    "print(Production)"
   ]
  },
  {
   "cell_type": "code",
   "execution_count": 247,
   "metadata": {},
   "outputs": [],
   "source": [
    "import pickle\n",
    "filename = \"finalized_model.sav\"\n",
    "# pickle.dump(model, open(filename, 'wb'))\n",
    " \n",
    "# some time later...\n",
    " \n",
    "# load the model from disk\n",
    "model = pickle.load(open(filename, 'rb'))\n",
    "# result = loaded_model.score(X_test, Y_test)"
   ]
  }
 ],
 "metadata": {
  "kernelspec": {
   "display_name": "Python 3",
   "language": "python",
   "name": "python3"
  },
  "language_info": {
   "codemirror_mode": {
    "name": "ipython",
    "version": 3
   },
   "file_extension": ".py",
   "mimetype": "text/x-python",
   "name": "python",
   "nbconvert_exporter": "python",
   "pygments_lexer": "ipython3",
   "version": "3.11.0"
  },
  "orig_nbformat": 4
 },
 "nbformat": 4,
 "nbformat_minor": 2
}
