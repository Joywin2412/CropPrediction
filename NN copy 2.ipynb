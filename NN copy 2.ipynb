{
 "cells": [
  {
   "cell_type": "code",
   "execution_count": 2,
   "metadata": {},
   "outputs": [],
   "source": [
    "import numpy as np\n",
    "import requests\n",
    "import matplotlib.pyplot as plt\n",
    "%matplotlib widget\n",
    "import tensorflow as tf\n",
    "from tensorflow.keras.models import Sequential\n",
    "from tensorflow.keras.layers import Dense\n",
    "np.set_printoptions(precision=2)\n",
    "import logging\n",
    "import json\n",
    "logging.getLogger(\"tensorflow\").setLevel(logging.ERROR)\n",
    "tf.autograph.set_verbosity(0)"
   ]
  },
  {
   "cell_type": "code",
   "execution_count": 3,
   "metadata": {},
   "outputs": [],
   "source": [
    "import csv\n",
    "import numpy as np\n",
    "\n",
    "cnt = 1\n",
    "csv_file_path = 'crop_production.csv'\n",
    "states = {}\n",
    "districts = {}\n",
    "season_to_number = {}\n",
    "crops = {}\n",
    "with open(csv_file_path, 'r') as file:\n",
    "    csv_reader = csv.reader(file)\n",
    "    for row in  csv_reader:\n",
    "        cnt = cnt+1\n",
    "        if cnt == 1 : continue\n",
    "        states[row[0].strip()] = 1\n",
    "        districts[row[1].strip()] = 1\n",
    "        season_to_number[row[3].strip()] = 1\n",
    "        crops[row[4].strip()] = 1\n",
    "        \n",
    "cnt = 1\n",
    "for val in states.keys():\n",
    "    states[val] = cnt\n",
    "    cnt = cnt+1\n",
    "cnt = 1\n",
    "for val in districts.keys():\n",
    "    districts[val] = cnt\n",
    "    cnt = cnt+1\n",
    "cnt = 1\n",
    "\n",
    "for val in season_to_number.keys():\n",
    "    season_to_number[val] = cnt\n",
    "    cnt = cnt+1\n",
    "cnt = 1\n",
    "for val in crops.keys():\n",
    "    crops[val] = cnt\n",
    "    cnt = cnt+1\n",
    "\n",
    "\n"
   ]
  },
  {
   "cell_type": "code",
   "execution_count": 4,
   "metadata": {},
   "outputs": [
    {
     "name": "stdout",
     "output_type": "stream",
     "text": [
      "['NICOBARS' 'Kharif' 'Arecanut' '1254.00']\n",
      "[427]\n"
     ]
    }
   ],
   "source": [
    "import csv\n",
    "import numpy as np\n",
    "\n",
    "csv_file_path = 'crop_production.csv'\n",
    "\n",
    "y = []\n",
    "data = []\n",
    "cnt = 0\n",
    "with open(csv_file_path, 'r') as file:\n",
    "    csv_reader = csv.reader(file)\n",
    "    for row in csv_reader:\n",
    "        cnt = cnt+1\n",
    "        if cnt == 1 : continue\n",
    "        try:\n",
    "            y.append(float(row[6]))\n",
    "        except:\n",
    "            continue\n",
    "        temp_row = row\n",
    "        temp_row[1] = (temp_row[1].strip())\n",
    "        temp_row[2] = (temp_row[2].strip())\n",
    "        temp_row[3] = (temp_row[3].strip())\n",
    "        temp_row[4] = (temp_row[4].strip())\n",
    "        temp_row[5] = (temp_row[5].strip())\n",
    "        \n",
    "        temp1 = row[1:2]\n",
    "        temp2 = row[3:6]\n",
    "        data.append(temp1+temp2)\n",
    "       \n",
    "y = np.array(y)\n",
    "data = np.array(data)\n",
    "\n",
    "print(data[0])\n",
    "from sklearn.model_selection import train_test_split\n",
    "from sklearn.preprocessing import LabelEncoder, MinMaxScaler\n",
    "\n",
    "label_encoder1 = LabelEncoder()\n",
    "label_encoder2 = LabelEncoder()\n",
    "label_encoder3 = LabelEncoder()\n",
    "scaler = MinMaxScaler()\n",
    "\n",
    "\n",
    "\n",
    "\n",
    "label_encoder1.fit(data[:, 0])\n",
    "data[:,0] = label_encoder1.transform(data[:,0])\n",
    "label_encoder2.fit(data[:, 1])\n",
    "data[:,1] = label_encoder2.transform(data[:,1])\n",
    "label_encoder3.fit(data[:, 2])\n",
    "data[:,2] = label_encoder3.transform(data[:,2])\n",
    "\n",
    "print(label_encoder1.transform(['NICOBARS']))\n",
    "data = scaler.fit_transform(data)\n",
    "data = data.astype(float)\n",
    "\n",
    "\n",
    "\n",
    "X_train, X_val, y_train, y_val = train_test_split(data, y, test_size=0.2, random_state=42)\n",
    "\n"
   ]
  },
  {
   "cell_type": "code",
   "execution_count": 100,
   "metadata": {},
   "outputs": [],
   "source": [
    "# Now I have m training examples which I can use to train my model\n",
    "from tensorflow.keras.regularizers import L2\n",
    "from tensorflow.keras import initializers\n",
    "\n",
    "tf.random.set_seed(1234)  # applied to achieve consistent results\n",
    "model = Sequential([  \n",
    "        Dense(2000, activation='relu', name=\"L1\", kernel_initializer=\"glorot_uniform\"\n",
    "              ,kernel_regularizer = L2(5)),\n",
    "        Dense(1000, activation='relu', name=\"L2\", kernel_initializer=\"glorot_uniform\",kernel_regularizer = L2(5) ),\n",
    "        Dense(1 ,name=\"L6\",kernel_initializer=\"glorot_uniform\",kernel_regularizer = L2(5) )\n",
    "    ]\n",
    ")\n",
    "# print(y_train)"
   ]
  },
  {
   "cell_type": "code",
   "execution_count": 101,
   "metadata": {},
   "outputs": [
    {
     "name": "stdout",
     "output_type": "stream",
     "text": [
      "6059/6059 [==============================] - 247s 41ms/step - loss: 262293300445184.0000 - val_loss: 398312784003072.0000\n"
     ]
    }
   ],
   "source": [
    "model.compile(loss=tf.keras.losses.mse,\n",
    "                optimizer=tf.keras.optimizers.Adam(3))\n",
    "# the learning rate is 0.01 and we are using sigmoid function to binary classify the data\n",
    "\n",
    "import matplotlib.pyplot as plt\n",
    "\n",
    "# Assuming you have a history object returned by model.fit()\n",
    "history = model.fit(X_train, y_train, epochs=1, batch_size=32, validation_data=(X_val, y_val))\n",
    "\n",
    "# Get the loss values from the history object\n",
    "loss_values = history.history['loss']\n",
    "\n",
    "# Plot the loss curve\n",
    "# plt.plot(loss_values)\n",
    "# plt.title('Loss Curve')\n",
    "# plt.xlabel('Epochs')\n",
    "# plt.ylabel('Loss')\n",
    "# plt.show()\n",
    "\n",
    "\n"
   ]
  },
  {
   "cell_type": "code",
   "execution_count": 102,
   "metadata": {},
   "outputs": [
    {
     "name": "stdout",
     "output_type": "stream",
     "text": [
      "6059/6059 [==============================] - 28s 5ms/step\n",
      "114158.01 75435730.0\n",
      "[[ 114158.01]\n",
      " [2220810.  ]\n",
      " [3757944.5 ]\n",
      " ...\n",
      " [ 114158.01]\n",
      " [6006262.5 ]\n",
      " [ 406360.25]]\n"
     ]
    }
   ],
   "source": [
    "y_pred = np.array(model.predict(X_train))\n",
    "print(np.min(y_pred),np.max(y_pred))\n",
    "print(y_pred)"
   ]
  },
  {
   "cell_type": "code",
   "execution_count": 103,
   "metadata": {},
   "outputs": [
    {
     "name": "stdout",
     "output_type": "stream",
     "text": [
      "[[6.62e-01 2.00e-01 6.02e-01 2.21e-07]]\n",
      "1/1 [==============================] - 0s 72ms/step\n",
      "[[114158.02]]\n"
     ]
    }
   ],
   "source": [
    "District_Name = 'NICOBARS'\n",
    "Season = 'Kharif'\n",
    "Crop = 'Other Kharif pulses'\n",
    "Area = '2.00'\n",
    "\n",
    "new_data = np.array([District_Name,Season,Crop,Area])\n",
    "new_data = new_data.reshape(1,-1)\n",
    "new_data[:,0] = label_encoder1.transform(new_data[:,0])\n",
    "\n",
    "new_data[:,1] = label_encoder2.transform(new_data[:,1])\n",
    "\n",
    "new_data[:,2] = label_encoder3.transform(new_data[:,2])\n",
    "\n",
    "\n",
    "new_data = scaler.transform(new_data)\n",
    "new_data = new_data.astype(float)\n",
    "print(new_data)\n",
    "\n",
    "production = model.predict(new_data)\n",
    "print(production)\n",
    "\n",
    "\n"
   ]
  },
  {
   "cell_type": "code",
   "execution_count": 104,
   "metadata": {},
   "outputs": [],
   "source": [
    "# print(model.predict())"
   ]
  }
 ],
 "metadata": {
  "kernelspec": {
   "display_name": "Python 3",
   "language": "python",
   "name": "python3"
  },
  "language_info": {
   "codemirror_mode": {
    "name": "ipython",
    "version": 3
   },
   "file_extension": ".py",
   "mimetype": "text/x-python",
   "name": "python",
   "nbconvert_exporter": "python",
   "pygments_lexer": "ipython3",
   "version": "3.11.0"
  },
  "orig_nbformat": 4
 },
 "nbformat": 4,
 "nbformat_minor": 2
}
